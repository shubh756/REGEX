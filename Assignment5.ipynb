{
  "nbformat": 4,
  "nbformat_minor": 0,
  "metadata": {
    "colab": {
      "name": "Assignment5.ipynb",
      "provenance": []
    },
    "kernelspec": {
      "name": "python3",
      "display_name": "Python 3"
    },
    "language_info": {
      "name": "python"
    }
  },
  "cells": [
    {
      "cell_type": "markdown",
      "metadata": {
        "id": "L3505QWwx9ei"
      },
      "source": [
        "*   **#Task 5**\n",
        "*   **Registration/Referral id :** SIRSS2218\n",
        "*   **Full name :** Shrikrushnakumar Bhausaheb Sondge\n",
        "\n"
      ]
    },
    {
      "cell_type": "markdown",
      "metadata": {
        "id": "5vWJV2kSyHZd"
      },
      "source": [
        "**Q1. Given a list of integers, write a function to return the sum of all prime numbers in that\n",
        "list.**"
      ]
    },
    {
      "cell_type": "code",
      "metadata": {
        "colab": {
          "base_uri": "https://localhost:8080/"
        },
        "id": "idPkBIFkyCbG",
        "outputId": "767f5fc2-6b27-4f49-851b-96495c1d8c02"
      },
      "source": [
        "def add(l):\n",
        "  sum = 0\n",
        "  a = []\n",
        "  for i in l:\n",
        "    if l[i] > 1:\n",
        "      if all(l[i] % j != 0 for j in range(2, int(l[i]**0.5)+1)):\n",
        "        sum = sum + l[i]\n",
        "        a.append(l[i])\n",
        "    else:\n",
        "      continue\n",
        "  print(f\"List of prime numbers is {a}\")\n",
        "  return sum\n",
        "\n",
        "if __name__ == \"__main__\":\n",
        "  l = range(0,101)\n",
        "  print(f\"The sum of all prime numbers in given list is {add(l)}\")\n"
      ],
      "execution_count": null,
      "outputs": [
        {
          "output_type": "stream",
          "text": [
            "List of prime numbers is [2, 3, 5, 7, 11, 13, 17, 19, 23, 29, 31, 37, 41, 43, 47, 53, 59, 61, 67, 71, 73, 79, 83, 89, 97]\n",
            "The sum of all prime numbers in given list is 1060\n"
          ],
          "name": "stdout"
        }
      ]
    },
    {
      "cell_type": "markdown",
      "metadata": {
        "id": "MSVw7e1F7oMp"
      },
      "source": [
        "**Q2. Given a list of integers, write a function to check whether the list is strictly increasing or\n",
        "not.**"
      ]
    },
    {
      "cell_type": "code",
      "metadata": {
        "colab": {
          "base_uri": "https://localhost:8080/"
        },
        "id": "DgZxju4-82co",
        "outputId": "0ad02677-221f-487b-df73-9d01b93487d9"
      },
      "source": [
        "def check(l):\n",
        "  if (len(l) > 1):\n",
        "    return all(i < j for i, j in zip(l, l[1:]))\n",
        "  # else :\n",
        "  #   return \"We can't comment on singel element or on null list..!!\"\n",
        "\n",
        "if __name__ == \"__main__\":\n",
        "  l = [15,10,9,6,7]\n",
        "  print(f\"Given list is strictly increasing if it is True else it is False \\n{check(l)}\")\n"
      ],
      "execution_count": null,
      "outputs": [
        {
          "output_type": "stream",
          "text": [
            "Given list is strictly increasing if it is True else it is False \n",
            "False\n"
          ],
          "name": "stdout"
        }
      ]
    },
    {
      "cell_type": "markdown",
      "metadata": {
        "id": "tjquW0DFATc9"
      },
      "source": [
        "**Q3. Write a function to check whether a given list is expanding or not (the difference\n",
        "between adjacent elements should keep on increasing).**"
      ]
    },
    {
      "cell_type": "code",
      "metadata": {
        "colab": {
          "base_uri": "https://localhost:8080/"
        },
        "id": "nztZEezK-XIq",
        "outputId": "4db60931-eeab-44df-e28f-084bbbd4ec6a"
      },
      "source": [
        "def checkExpanding(l):\n",
        "  if all(((l[i+2]-l[i+1])>(l[i+1]-l[i])) for i in range(0,len(l)-2)):\n",
        "    return \"List is expanding\" # try [1,4,8,13]\n",
        "  elif all(((l[i+2]-l[i+1]) == (l[i+1]-l[i])) for i in range(0,len(l)-2)):\n",
        "    return \"(the difference between adjacent elements is equal\" #Try [1,4,7,10]\n",
        "  else:\n",
        "    return \"List is not expanding\"\n",
        "\n",
        "if __name__ == \"__main__\":\n",
        "  print(checkExpanding([1,4,8,13]))"
      ],
      "execution_count": null,
      "outputs": [
        {
          "output_type": "stream",
          "text": [
            "List is expanding\n"
          ],
          "name": "stdout"
        }
      ]
    },
    {
      "cell_type": "markdown",
      "metadata": {
        "id": "meGlsnzEJppL"
      },
      "source": [
        "**Q4. Write a function to calculate all permutations of a given string. (Without using itertools)**"
      ]
    },
    {
      "cell_type": "code",
      "metadata": {
        "colab": {
          "base_uri": "https://localhost:8080/"
        },
        "id": "262ZxN7WD0wp",
        "outputId": "2d9f04d5-efef-4df2-8aa7-de92552ddead"
      },
      "source": [
        "def String(List):\n",
        "    return ''.join(List)\n",
        "\n",
        "def permutations(p, q, r):\n",
        "    if q==r:\n",
        "        print (String(p))\n",
        "    else:\n",
        "        for i in range (q,r+1):\n",
        "            p[q], p[i] = p[i], p[q]\n",
        "            permutations(p, q+1, r)\n",
        "            p[q], p[i] = p[i], p[q] \n",
        "\n",
        "\n",
        "given_string = \"SHUBH\"\n",
        "n = len(given_string)\n",
        "p = list(given_string)\n",
        "permutations(p, 0, n-1)"
      ],
      "execution_count": 1,
      "outputs": [
        {
          "output_type": "stream",
          "text": [
            "SHUBH\n",
            "SHUHB\n",
            "SHBUH\n",
            "SHBHU\n",
            "SHHBU\n",
            "SHHUB\n",
            "SUHBH\n",
            "SUHHB\n",
            "SUBHH\n",
            "SUBHH\n",
            "SUHBH\n",
            "SUHHB\n",
            "SBUHH\n",
            "SBUHH\n",
            "SBHUH\n",
            "SBHHU\n",
            "SBHHU\n",
            "SBHUH\n",
            "SHUBH\n",
            "SHUHB\n",
            "SHBUH\n",
            "SHBHU\n",
            "SHHBU\n",
            "SHHUB\n",
            "HSUBH\n",
            "HSUHB\n",
            "HSBUH\n",
            "HSBHU\n",
            "HSHBU\n",
            "HSHUB\n",
            "HUSBH\n",
            "HUSHB\n",
            "HUBSH\n",
            "HUBHS\n",
            "HUHBS\n",
            "HUHSB\n",
            "HBUSH\n",
            "HBUHS\n",
            "HBSUH\n",
            "HBSHU\n",
            "HBHSU\n",
            "HBHUS\n",
            "HHUBS\n",
            "HHUSB\n",
            "HHBUS\n",
            "HHBSU\n",
            "HHSBU\n",
            "HHSUB\n",
            "UHSBH\n",
            "UHSHB\n",
            "UHBSH\n",
            "UHBHS\n",
            "UHHBS\n",
            "UHHSB\n",
            "USHBH\n",
            "USHHB\n",
            "USBHH\n",
            "USBHH\n",
            "USHBH\n",
            "USHHB\n",
            "UBSHH\n",
            "UBSHH\n",
            "UBHSH\n",
            "UBHHS\n",
            "UBHHS\n",
            "UBHSH\n",
            "UHSBH\n",
            "UHSHB\n",
            "UHBSH\n",
            "UHBHS\n",
            "UHHBS\n",
            "UHHSB\n",
            "BHUSH\n",
            "BHUHS\n",
            "BHSUH\n",
            "BHSHU\n",
            "BHHSU\n",
            "BHHUS\n",
            "BUHSH\n",
            "BUHHS\n",
            "BUSHH\n",
            "BUSHH\n",
            "BUHSH\n",
            "BUHHS\n",
            "BSUHH\n",
            "BSUHH\n",
            "BSHUH\n",
            "BSHHU\n",
            "BSHHU\n",
            "BSHUH\n",
            "BHUSH\n",
            "BHUHS\n",
            "BHSUH\n",
            "BHSHU\n",
            "BHHSU\n",
            "BHHUS\n",
            "HHUBS\n",
            "HHUSB\n",
            "HHBUS\n",
            "HHBSU\n",
            "HHSBU\n",
            "HHSUB\n",
            "HUHBS\n",
            "HUHSB\n",
            "HUBHS\n",
            "HUBSH\n",
            "HUSBH\n",
            "HUSHB\n",
            "HBUHS\n",
            "HBUSH\n",
            "HBHUS\n",
            "HBHSU\n",
            "HBSHU\n",
            "HBSUH\n",
            "HSUBH\n",
            "HSUHB\n",
            "HSBUH\n",
            "HSBHU\n",
            "HSHBU\n",
            "HSHUB\n"
          ],
          "name": "stdout"
        }
      ]
    }
  ]
}