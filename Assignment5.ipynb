{
  "nbformat": 4,
  "nbformat_minor": 0,
  "metadata": {
    "colab": {
      "name": "Assignment5.ipynb",
      "provenance": []
    },
    "kernelspec": {
      "name": "python3",
      "display_name": "Python 3"
    },
    "language_info": {
      "name": "python"
    }
  },
  "cells": [
    {
      "cell_type": "markdown",
      "metadata": {
        "id": "L3505QWwx9ei"
      },
      "source": [
        "*   **#Task 5**\n",
        "*   **Registration/Referral id :** SIRSS2218\n",
        "*   **Full name :** Shrikrushnakumar Bhausaheb Sondge\n",
        "\n"
      ]
    },
    {
      "cell_type": "markdown",
      "metadata": {
        "id": "5vWJV2kSyHZd"
      },
      "source": [
        "**Q1. Given a list of integers, write a function to return the sum of all prime numbers in that\n",
        "list.**"
      ]
    },
    {
      "cell_type": "code",
      "metadata": {
        "colab": {
          "base_uri": "https://localhost:8080/"
        },
        "id": "idPkBIFkyCbG",
        "outputId": "767f5fc2-6b27-4f49-851b-96495c1d8c02"
      },
      "source": [
        "def add(l):\n",
        "  sum = 0\n",
        "  a = []\n",
        "  for i in l:\n",
        "    if l[i] > 1:\n",
        "      if all(l[i] % j != 0 for j in range(2, int(l[i]**0.5)+1)):\n",
        "        sum = sum + l[i]\n",
        "        a.append(l[i])\n",
        "    else:\n",
        "      continue\n",
        "  print(f\"List of prime numbers is {a}\")\n",
        "  return sum\n",
        "\n",
        "if __name__ == \"__main__\":\n",
        "  l = range(0,101)\n",
        "  print(f\"The sum of all prime numbers in given list is {add(l)}\")\n"
      ],
      "execution_count": 44,
      "outputs": [
        {
          "output_type": "stream",
          "text": [
            "List of prime numbers is [2, 3, 5, 7, 11, 13, 17, 19, 23, 29, 31, 37, 41, 43, 47, 53, 59, 61, 67, 71, 73, 79, 83, 89, 97]\n",
            "The sum of all prime numbers in given list is 1060\n"
          ],
          "name": "stdout"
        }
      ]
    },
    {
      "cell_type": "markdown",
      "metadata": {
        "id": "MSVw7e1F7oMp"
      },
      "source": [
        "**Q2. Given a list of integers, write a function to check whether the list is strictly increasing or\n",
        "not.**"
      ]
    },
    {
      "cell_type": "code",
      "metadata": {
        "colab": {
          "base_uri": "https://localhost:8080/"
        },
        "id": "DgZxju4-82co",
        "outputId": "0ad02677-221f-487b-df73-9d01b93487d9"
      },
      "source": [
        "def check(l):\n",
        "  if (len(l) > 1):\n",
        "    return all(i < j for i, j in zip(l, l[1:]))\n",
        "  # else :\n",
        "  #   return \"We can't comment on singel element or on null list..!!\"\n",
        "\n",
        "if __name__ == \"__main__\":\n",
        "  l = [15,10,9,6,7]\n",
        "  print(f\"Given list is strictly increasing if it is True else it is False \\n{check(l)}\")\n"
      ],
      "execution_count": 45,
      "outputs": [
        {
          "output_type": "stream",
          "text": [
            "Given list is strictly increasing if it is True else it is False \n",
            "False\n"
          ],
          "name": "stdout"
        }
      ]
    },
    {
      "cell_type": "markdown",
      "metadata": {
        "id": "tjquW0DFATc9"
      },
      "source": [
        "**Q3. Write a function to check whether a given list is expanding or not (the difference\n",
        "between adjacent elements should keep on increasing).**"
      ]
    },
    {
      "cell_type": "code",
      "metadata": {
        "colab": {
          "base_uri": "https://localhost:8080/"
        },
        "id": "nztZEezK-XIq",
        "outputId": "4db60931-eeab-44df-e28f-084bbbd4ec6a"
      },
      "source": [
        "def checkExpanding(l):\n",
        "  if all(((l[i+2]-l[i+1])>(l[i+1]-l[i])) for i in range(0,len(l)-2)):\n",
        "    return \"List is expanding\" # try [1,4,8,13]\n",
        "  elif all(((l[i+2]-l[i+1]) == (l[i+1]-l[i])) for i in range(0,len(l)-2)):\n",
        "    return \"(the difference between adjacent elements is equal\" #Try [1,4,7,10]\n",
        "  else:\n",
        "    return \"List is not expanding\"\n",
        "\n",
        "if __name__ == \"__main__\":\n",
        "  print(checkExpanding([1,4,8,13]))"
      ],
      "execution_count": 46,
      "outputs": [
        {
          "output_type": "stream",
          "text": [
            "List is expanding\n"
          ],
          "name": "stdout"
        }
      ]
    },
    {
      "cell_type": "markdown",
      "metadata": {
        "id": "meGlsnzEJppL"
      },
      "source": [
        "**Q4. Write a function to calculate all permutations of a given string. (Without using itertools)**"
      ]
    },
    {
      "cell_type": "code",
      "metadata": {
        "colab": {
          "base_uri": "https://localhost:8080/"
        },
        "id": "262ZxN7WD0wp",
        "outputId": "2286a454-5937-4758-9a7b-8161608c65e1"
      },
      "source": [
        "s = 'abc'\n",
        "a =( (x,y,z) for x in s for y in s for z in s)\n",
        "list(a)"
      ],
      "execution_count": 47,
      "outputs": [
        {
          "output_type": "execute_result",
          "data": {
            "text/plain": [
              "[('a', 'a', 'a'),\n",
              " ('a', 'a', 'b'),\n",
              " ('a', 'a', 'c'),\n",
              " ('a', 'b', 'a'),\n",
              " ('a', 'b', 'b'),\n",
              " ('a', 'b', 'c'),\n",
              " ('a', 'c', 'a'),\n",
              " ('a', 'c', 'b'),\n",
              " ('a', 'c', 'c'),\n",
              " ('b', 'a', 'a'),\n",
              " ('b', 'a', 'b'),\n",
              " ('b', 'a', 'c'),\n",
              " ('b', 'b', 'a'),\n",
              " ('b', 'b', 'b'),\n",
              " ('b', 'b', 'c'),\n",
              " ('b', 'c', 'a'),\n",
              " ('b', 'c', 'b'),\n",
              " ('b', 'c', 'c'),\n",
              " ('c', 'a', 'a'),\n",
              " ('c', 'a', 'b'),\n",
              " ('c', 'a', 'c'),\n",
              " ('c', 'b', 'a'),\n",
              " ('c', 'b', 'b'),\n",
              " ('c', 'b', 'c'),\n",
              " ('c', 'c', 'a'),\n",
              " ('c', 'c', 'b'),\n",
              " ('c', 'c', 'c')]"
            ]
          },
          "metadata": {},
          "execution_count": 47
        }
      ]
    }
  ]
}