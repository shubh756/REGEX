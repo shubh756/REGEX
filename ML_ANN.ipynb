{
  "nbformat": 4,
  "nbformat_minor": 0,
  "metadata": {
    "colab": {
      "name": "ML-ANN.ipynb",
      "provenance": [],
      "collapsed_sections": []
    },
    "kernelspec": {
      "name": "python3",
      "display_name": "Python 3"
    },
    "language_info": {
      "name": "python"
    }
  },
  "cells": [
    {
      "cell_type": "code",
      "execution_count": null,
      "metadata": {
        "id": "h6n3iZCw1W5Y"
      },
      "outputs": [],
      "source": [
        "from tensorflow import keras\n",
        "import numpy as np"
      ]
    },
    {
      "cell_type": "code",
      "source": [
        "!pip3 install ann_visualizer"
      ],
      "metadata": {
        "colab": {
          "base_uri": "https://localhost:8080/"
        },
        "id": "pEVxVAjH1Zc0",
        "outputId": "4a9c43e0-063f-4961-b482-5d8d138d0a3f"
      },
      "execution_count": null,
      "outputs": [
        {
          "output_type": "stream",
          "name": "stdout",
          "text": [
            "Collecting ann_visualizer\n",
            "  Downloading ann_visualizer-2.5.tar.gz (4.7 kB)\n",
            "Building wheels for collected packages: ann-visualizer\n",
            "  Building wheel for ann-visualizer (setup.py) ... \u001b[?25l\u001b[?25hdone\n",
            "  Created wheel for ann-visualizer: filename=ann_visualizer-2.5-py3-none-any.whl size=4168 sha256=188aa993db1de7e0b53c465bc6f98897c13ec4cf0b55d117046838b6474e8bb3\n",
            "  Stored in directory: /root/.cache/pip/wheels/1b/fc/58/2ab1c3b30350105929308becddda4fb59b1358e54f985e1f4a\n",
            "Successfully built ann-visualizer\n",
            "Installing collected packages: ann-visualizer\n",
            "Successfully installed ann-visualizer-2.5\n"
          ]
        }
      ]
    },
    {
      "cell_type": "code",
      "source": [
        "from ann_visualizer.visualize import ann_viz\n",
        "from graphviz import Source"
      ],
      "metadata": {
        "id": "Pu5VU-5L1ZZm"
      },
      "execution_count": null,
      "outputs": []
    },
    {
      "cell_type": "code",
      "source": [
        "train = np.array([[0,0],[0,1],[1,0],[1,1]], \"float32\")\n",
        "test = np.array([[0],[0],[0],[1]], \"float32\")"
      ],
      "metadata": {
        "id": "O-yYLdAMNqNg"
      },
      "execution_count": null,
      "outputs": []
    },
    {
      "cell_type": "code",
      "source": [
        "model = keras.models.Sequential()\n",
        "model.add(keras.layers.Dense(4, input_dim=2, activation='sigmoid'))\n",
        "model.add(keras.layers.Dense(1, activation='sigmoid'))\n",
        "model.compile(loss='mean_squared_error', optimizer='adam', metrics=['accuracy'])"
      ],
      "metadata": {
        "id": "rvmEC5-V1ZSi"
      },
      "execution_count": null,
      "outputs": []
    },
    {
      "cell_type": "code",
      "source": [
        "model_r = model.fit(train,test,epochs=10)"
      ],
      "metadata": {
        "colab": {
          "base_uri": "https://localhost:8080/"
        },
        "id": "vQjtW4vSNnzL",
        "outputId": "ea380371-ce3a-4d93-d3c7-4957042442ea"
      },
      "execution_count": null,
      "outputs": [
        {
          "output_type": "stream",
          "name": "stdout",
          "text": [
            "Epoch 1/10\n",
            "1/1 [==============================] - 1s 710ms/step - loss: 0.2721 - accuracy: 0.2500\n",
            "Epoch 2/10\n",
            "1/1 [==============================] - 0s 11ms/step - loss: 0.2714 - accuracy: 0.2500\n",
            "Epoch 3/10\n",
            "1/1 [==============================] - 0s 13ms/step - loss: 0.2708 - accuracy: 0.2500\n",
            "Epoch 4/10\n",
            "1/1 [==============================] - 0s 8ms/step - loss: 0.2701 - accuracy: 0.2500\n",
            "Epoch 5/10\n",
            "1/1 [==============================] - 0s 9ms/step - loss: 0.2695 - accuracy: 0.2500\n",
            "Epoch 6/10\n",
            "1/1 [==============================] - 0s 30ms/step - loss: 0.2689 - accuracy: 0.2500\n",
            "Epoch 7/10\n",
            "1/1 [==============================] - 0s 14ms/step - loss: 0.2682 - accuracy: 0.2500\n",
            "Epoch 8/10\n",
            "1/1 [==============================] - 0s 9ms/step - loss: 0.2676 - accuracy: 0.2500\n",
            "Epoch 9/10\n",
            "1/1 [==============================] - 0s 8ms/step - loss: 0.2670 - accuracy: 0.2500\n",
            "Epoch 10/10\n",
            "1/1 [==============================] - 0s 11ms/step - loss: 0.2664 - accuracy: 0.2500\n"
          ]
        }
      ]
    },
    {
      "cell_type": "code",
      "source": [
        "ann_viz(model, title=\"Simple AND Classifier\")"
      ],
      "metadata": {
        "id": "z4Q70SOP1ZP1"
      },
      "execution_count": null,
      "outputs": []
    },
    {
      "cell_type": "code",
      "source": [
        "graph_source = Source.from_file('network.gv')"
      ],
      "metadata": {
        "id": "m5yxXWo31ZNX"
      },
      "execution_count": null,
      "outputs": []
    },
    {
      "cell_type": "code",
      "source": [
        "graph_source"
      ],
      "metadata": {
        "colab": {
          "base_uri": "https://localhost:8080/",
          "height": 748
        },
        "id": "oMVD4bY91ZLB",
        "outputId": "7159d511-e3ad-4be2-d067-c91e2a9f5601"
      },
      "execution_count": null,
      "outputs": [
        {
          "output_type": "execute_result",
          "data": {
            "text/plain": [
              "<graphviz.files.Source at 0x7fc08a4fc6d0>"
            ],
            "image/svg+xml": "<?xml version=\"1.0\" encoding=\"UTF-8\" standalone=\"no\"?>\n<!DOCTYPE svg PUBLIC \"-//W3C//DTD SVG 1.1//EN\"\n \"http://www.w3.org/Graphics/SVG/1.1/DTD/svg11.dtd\">\n<!-- Generated by graphviz version 2.40.1 (20161225.0304)\n -->\n<!-- Title: g Pages: 1 -->\n<svg width=\"400pt\" height=\"545pt\"\n viewBox=\"0.00 0.00 400.00 545.00\" xmlns=\"http://www.w3.org/2000/svg\" xmlns:xlink=\"http://www.w3.org/1999/xlink\">\n<g id=\"graph0\" class=\"graph\" transform=\"scale(1 1) rotate(0) translate(4 541)\">\n<title>g</title>\n<polygon fill=\"#ffffff\" stroke=\"transparent\" points=\"-4,4 -4,-541 396,-541 396,4 -4,4\"/>\n<g id=\"clust1\" class=\"cluster\">\n<title>cluster_input</title>\n<polygon fill=\"none\" stroke=\"#ffffff\" points=\"116,-391 116,-529 276,-529 276,-391 116,-391\"/>\n<text text-anchor=\"middle\" x=\"196\" y=\"-513.8\" font-family=\"Times,serif\" font-size=\"14.00\" fill=\"#000000\">Simple AND Classifier</text>\n<text text-anchor=\"middle\" x=\"196\" y=\"-450.8\" font-family=\"Times,serif\" font-size=\"14.00\" fill=\"#000000\">Input Layer</text>\n</g>\n<g id=\"clust2\" class=\"cluster\">\n<title>cluster_1</title>\n<polygon fill=\"none\" stroke=\"#ffffff\" points=\"8,-211 8,-263 384,-263 384,-211 8,-211\"/>\n</g>\n<g id=\"clust3\" class=\"cluster\">\n<title>cluster_output</title>\n<polygon fill=\"none\" stroke=\"#ffffff\" points=\"149,-8 149,-83 243,-83 243,-8 149,-8\"/>\n<text text-anchor=\"middle\" x=\"196\" y=\"-15.8\" font-family=\"Times,serif\" font-size=\"14.00\" fill=\"#000000\">Output Layer</text>\n</g>\n<!-- 1 -->\n<g id=\"node1\" class=\"node\">\n<title>1</title>\n<ellipse fill=\"#2ecc71\" stroke=\"#2ecc71\" cx=\"250\" cy=\"-417\" rx=\"18\" ry=\"18\"/>\n<text text-anchor=\"middle\" x=\"250\" y=\"-413.3\" font-family=\"Times,serif\" font-size=\"14.00\" fill=\"#2ecc71\">1</text>\n</g>\n<!-- 3 -->\n<g id=\"node3\" class=\"node\">\n<title>3</title>\n<ellipse fill=\"#3498db\" stroke=\"#3498db\" cx=\"358\" cy=\"-237\" rx=\"18\" ry=\"18\"/>\n<text text-anchor=\"middle\" x=\"358\" y=\"-233.3\" font-family=\"Times,serif\" font-size=\"14.00\" fill=\"#3498db\">3</text>\n</g>\n<!-- 1&#45;&gt;3 -->\n<g id=\"edge1\" class=\"edge\">\n<title>1&#45;&gt;3</title>\n<path fill=\"none\" stroke=\"#707070\" d=\"M259.3954,-401.3411C279.872,-367.2134 328.3168,-286.472 348.7033,-252.4946\"/>\n</g>\n<!-- 4 -->\n<g id=\"node4\" class=\"node\">\n<title>4</title>\n<ellipse fill=\"#3498db\" stroke=\"#3498db\" cx=\"250\" cy=\"-237\" rx=\"18\" ry=\"18\"/>\n<text text-anchor=\"middle\" x=\"250\" y=\"-233.3\" font-family=\"Times,serif\" font-size=\"14.00\" fill=\"#3498db\">4</text>\n</g>\n<!-- 1&#45;&gt;4 -->\n<g id=\"edge3\" class=\"edge\">\n<title>1&#45;&gt;4</title>\n<path fill=\"none\" stroke=\"#707070\" d=\"M250,-398.7501C250,-364.161 250,-289.4493 250,-255.0306\"/>\n</g>\n<!-- 5 -->\n<g id=\"node5\" class=\"node\">\n<title>5</title>\n<ellipse fill=\"#3498db\" stroke=\"#3498db\" cx=\"142\" cy=\"-237\" rx=\"18\" ry=\"18\"/>\n<text text-anchor=\"middle\" x=\"142\" y=\"-233.3\" font-family=\"Times,serif\" font-size=\"14.00\" fill=\"#3498db\">5</text>\n</g>\n<!-- 1&#45;&gt;5 -->\n<g id=\"edge5\" class=\"edge\">\n<title>1&#45;&gt;5</title>\n<path fill=\"none\" stroke=\"#707070\" d=\"M240.6046,-401.3411C220.128,-367.2134 171.6832,-286.472 151.2967,-252.4946\"/>\n</g>\n<!-- 6 -->\n<g id=\"node6\" class=\"node\">\n<title>6</title>\n<ellipse fill=\"#3498db\" stroke=\"#3498db\" cx=\"34\" cy=\"-237\" rx=\"18\" ry=\"18\"/>\n<text text-anchor=\"middle\" x=\"34\" y=\"-233.3\" font-family=\"Times,serif\" font-size=\"14.00\" fill=\"#3498db\">6</text>\n</g>\n<!-- 1&#45;&gt;6 -->\n<g id=\"edge7\" class=\"edge\">\n<title>1&#45;&gt;6</title>\n<path fill=\"none\" stroke=\"#707070\" d=\"M236.1596,-405.4664C197.2387,-373.0323 87.1251,-281.2709 48.0046,-248.6705\"/>\n</g>\n<!-- 2 -->\n<g id=\"node2\" class=\"node\">\n<title>2</title>\n<ellipse fill=\"#2ecc71\" stroke=\"#2ecc71\" cx=\"142\" cy=\"-417\" rx=\"18\" ry=\"18\"/>\n<text text-anchor=\"middle\" x=\"142\" y=\"-413.3\" font-family=\"Times,serif\" font-size=\"14.00\" fill=\"#2ecc71\">2</text>\n</g>\n<!-- 2&#45;&gt;3 -->\n<g id=\"edge2\" class=\"edge\">\n<title>2&#45;&gt;3</title>\n<path fill=\"none\" stroke=\"#707070\" d=\"M155.8404,-405.4664C194.7613,-373.0323 304.8749,-281.2709 343.9954,-248.6705\"/>\n</g>\n<!-- 2&#45;&gt;4 -->\n<g id=\"edge4\" class=\"edge\">\n<title>2&#45;&gt;4</title>\n<path fill=\"none\" stroke=\"#707070\" d=\"M151.3954,-401.3411C171.872,-367.2134 220.3168,-286.472 240.7033,-252.4946\"/>\n</g>\n<!-- 2&#45;&gt;5 -->\n<g id=\"edge6\" class=\"edge\">\n<title>2&#45;&gt;5</title>\n<path fill=\"none\" stroke=\"#707070\" d=\"M142,-398.7501C142,-364.161 142,-289.4493 142,-255.0306\"/>\n</g>\n<!-- 2&#45;&gt;6 -->\n<g id=\"edge8\" class=\"edge\">\n<title>2&#45;&gt;6</title>\n<path fill=\"none\" stroke=\"#707070\" d=\"M132.6046,-401.3411C112.128,-367.2134 63.6832,-286.472 43.2967,-252.4946\"/>\n</g>\n<!-- 7 -->\n<g id=\"node7\" class=\"node\">\n<title>7</title>\n<ellipse fill=\"#e74c3c\" stroke=\"#e74c3c\" cx=\"196\" cy=\"-57\" rx=\"18\" ry=\"18\"/>\n<text text-anchor=\"middle\" x=\"196\" y=\"-53.3\" font-family=\"Times,serif\" font-size=\"14.00\" fill=\"#e74c3c\">7</text>\n</g>\n<!-- 3&#45;&gt;7 -->\n<g id=\"edge9\" class=\"edge\">\n<title>3&#45;&gt;7</title>\n<path fill=\"none\" stroke=\"#707070\" d=\"M345.8237,-223.4707C315.8014,-190.1127 238.4876,-104.2085 208.3176,-70.6863\"/>\n</g>\n<!-- 4&#45;&gt;7 -->\n<g id=\"edge10\" class=\"edge\">\n<title>4&#45;&gt;7</title>\n<path fill=\"none\" stroke=\"#707070\" d=\"M244.8223,-219.7408C234.527,-185.4235 211.5885,-108.9617 201.2414,-74.4714\"/>\n</g>\n<!-- 5&#45;&gt;7 -->\n<g id=\"edge11\" class=\"edge\">\n<title>5&#45;&gt;7</title>\n<path fill=\"none\" stroke=\"#707070\" d=\"M147.1777,-219.7408C157.473,-185.4235 180.4115,-108.9617 190.7586,-74.4714\"/>\n</g>\n<!-- 6&#45;&gt;7 -->\n<g id=\"edge12\" class=\"edge\">\n<title>6&#45;&gt;7</title>\n<path fill=\"none\" stroke=\"#707070\" d=\"M46.1763,-223.4707C76.1986,-190.1127 153.5124,-104.2085 183.6824,-70.6863\"/>\n</g>\n</g>\n</svg>\n"
          },
          "metadata": {},
          "execution_count": 11
        }
      ]
    },
    {
      "cell_type": "code",
      "source": [
        "model.get_weights()"
      ],
      "metadata": {
        "colab": {
          "base_uri": "https://localhost:8080/"
        },
        "id": "MY2o8-hi1ZGK",
        "outputId": "b2ad387e-aeb7-4132-8b3e-7b2cde38e5be"
      },
      "execution_count": null,
      "outputs": [
        {
          "output_type": "execute_result",
          "data": {
            "text/plain": [
              "[array([[ 0.84287363, -0.33149508, -0.16974533, -0.06620805],\n",
              "        [-0.33818194, -0.6429276 , -0.6657712 , -0.59900576]],\n",
              "       dtype=float32),\n",
              " array([-0.00998648,  0.00999433, -0.00998639,  0.00999615], dtype=float32),\n",
              " array([[ 1.0474625],\n",
              "        [-1.077287 ],\n",
              "        [ 0.7898363],\n",
              "        [-0.5473458]], dtype=float32),\n",
              " array([-0.00999021], dtype=float32)]"
            ]
          },
          "metadata": {},
          "execution_count": 10
        }
      ]
    }
  ]
}