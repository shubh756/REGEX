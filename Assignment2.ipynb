{
  "nbformat": 4,
  "nbformat_minor": 0,
  "metadata": {
    "colab": {
      "name": "Assignment2.ipynb",
      "provenance": []
    },
    "kernelspec": {
      "name": "python3",
      "display_name": "Python 3"
    },
    "language_info": {
      "name": "python"
    }
  },
  "cells": [
    {
      "cell_type": "markdown",
      "metadata": {
        "id": "GRJ93rdzS0xL"
      },
      "source": [
        "* **#Task 2**   \n",
        "* **Registration/Referral id :** SIRSS2218\n",
        "* **Full name :** Shrikrushnakumar Bhausaheb Sondge\n"
      ]
    },
    {
      "cell_type": "markdown",
      "metadata": {
        "id": "bF3lU0M3UU2R"
      },
      "source": [
        "**Q1. Write a lambda expression to extract first word of a string.**"
      ]
    },
    {
      "cell_type": "code",
      "metadata": {
        "colab": {
          "base_uri": "https://localhost:8080/"
        },
        "id": "Tmcsjg79S3f_",
        "outputId": "498a808d-d1b2-48b6-9acc-ab7519f1a841"
      },
      "source": [
        "a = 'They call me master.'\n",
        "x = lambda s : s.split()[0]\n",
        "print(x(a))"
      ],
      "execution_count": 3,
      "outputs": [
        {
          "output_type": "stream",
          "text": [
            "They\n"
          ],
          "name": "stdout"
        }
      ]
    },
    {
      "cell_type": "markdown",
      "metadata": {
        "id": "o1SGhDEaVQBh"
      },
      "source": [
        "**Q.2 Write a function to extract first word of s string (with many words separated by space).**"
      ]
    },
    {
      "cell_type": "code",
      "metadata": {
        "id": "Af1TfAyjVbdZ",
        "colab": {
          "base_uri": "https://localhost:8080/"
        },
        "outputId": "7b86938e-0479-47ea-d369-e303acc5ee35"
      },
      "source": [
        "a = \"Write a function to extract first word of s string (with many words separated by space).\"\n",
        "def func(s):\n",
        "  return s.split()[0]\n",
        "print(func(a))"
      ],
      "execution_count": 4,
      "outputs": [
        {
          "output_type": "stream",
          "text": [
            "Write\n"
          ],
          "name": "stdout"
        }
      ]
    },
    {
      "cell_type": "markdown",
      "metadata": {
        "id": "nICBh7tqV1in"
      },
      "source": [
        "**Q.3 Extract the first word from every string from a list of strings by using map function.**"
      ]
    },
    {
      "cell_type": "code",
      "metadata": {
        "id": "UOggbRS3V7O7",
        "colab": {
          "base_uri": "https://localhost:8080/"
        },
        "outputId": "27d03c2e-98f2-45b7-83fe-55806c12c7e0"
      },
      "source": [
        "l = ['Iron Man', 'Captain America', 'Doctor Strange']\n",
        "list(map(func,l))"
      ],
      "execution_count": 5,
      "outputs": [
        {
          "output_type": "execute_result",
          "data": {
            "text/plain": [
              "['Iron', 'Captain', 'Doctor']"
            ]
          },
          "metadata": {
            "tags": []
          },
          "execution_count": 5
        }
      ]
    },
    {
      "cell_type": "markdown",
      "metadata": {
        "id": "2vUPdyQLW2ZN"
      },
      "source": [
        "**Q.4 Write a function to return a list of prime factors of a given number.**"
      ]
    },
    {
      "cell_type": "code",
      "metadata": {
        "id": "-1YLxBuFXAJk",
        "colab": {
          "base_uri": "https://localhost:8080/"
        },
        "outputId": "6cd6d351-4799-49e2-8864-6605ba10454e"
      },
      "source": [
        "def PrimeFactor(x):\n",
        "    prime_fact = []\n",
        "    d = 2\n",
        "\n",
        "    while d <= x:\n",
        "        if x % d == 0:\n",
        "            prime_fact.append(d)\n",
        "            x = x/d\n",
        "        else:\n",
        "            d += 1\n",
        "    return prime_fact\n",
        "\n",
        "print(PrimeFactor(756))"
      ],
      "execution_count": 6,
      "outputs": [
        {
          "output_type": "stream",
          "text": [
            "[2, 2, 3, 3, 3, 7]\n"
          ],
          "name": "stdout"
        }
      ]
    },
    {
      "cell_type": "markdown",
      "metadata": {
        "id": "ABnaYZrEZE_S"
      },
      "source": [
        "**Q.5 Write a function that finds 2nd largest among 4 numbers (Repetitions are allowed,\n",
        "without sorting).**"
      ]
    },
    {
      "cell_type": "code",
      "metadata": {
        "id": "IrmKn7XPYyWz",
        "colab": {
          "base_uri": "https://localhost:8080/"
        },
        "outputId": "09c9e339-0af3-422b-8d1e-3539a04dcff3"
      },
      "source": [
        "a = []\n",
        "for i in range(5):\n",
        "  b = int(input(\"ENter 5 numbers :  \"))\n",
        "  a.append(b)\n",
        "c = set(a)\n",
        "c.remove(max(c))\n",
        "print(max(c))"
      ],
      "execution_count": 7,
      "outputs": [
        {
          "output_type": "stream",
          "text": [
            "ENter 5 numbers :  99\n",
            "ENter 5 numbers :  999\n",
            "ENter 5 numbers :  969\n",
            "ENter 5 numbers :  989\n",
            "ENter 5 numbers :  0\n",
            "989\n"
          ],
          "name": "stdout"
        }
      ]
    }
  ]
}