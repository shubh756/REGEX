{
  "cells": [
    {
      "cell_type": "code",
      "execution_count": null,
      "id": "b929f300",
      "metadata": {
        "id": "b929f300"
      },
      "outputs": [],
      "source": [
        "# importing libraries\n",
        "import pandas as pd\n",
        "import numpy as np\n",
        "import matplotlib.pyplot as plt\n",
        "import tensorflow as tf\n",
        "from tensorflow import keras"
      ]
    },
    {
      "cell_type": "code",
      "execution_count": null,
      "id": "d3b6d4d1",
      "metadata": {
        "colab": {
          "base_uri": "https://localhost:8080/"
        },
        "id": "d3b6d4d1",
        "outputId": "026520ac-1b1c-45aa-d5d3-ec0153a47509"
      },
      "outputs": [
        {
          "output_type": "stream",
          "name": "stdout",
          "text": [
            "Downloading data from https://storage.googleapis.com/tensorflow/tf-keras-datasets/mnist.npz\n",
            "11493376/11490434 [==============================] - 0s 0us/step\n",
            "11501568/11490434 [==============================] - 0s 0us/step\n"
          ]
        }
      ],
      "source": [
        "# importing dataset\n",
        "digit_mnist = keras.datasets.mnist\n",
        "(x_train_full, y_train_full), (x_test, y_test) = digit_mnist.load_data()"
      ]
    },
    {
      "cell_type": "code",
      "execution_count": null,
      "id": "207c99d6",
      "metadata": {
        "colab": {
          "base_uri": "https://localhost:8080/"
        },
        "id": "207c99d6",
        "outputId": "bc650c56-1c2b-427d-e036-ba1f5f195d81"
      },
      "outputs": [
        {
          "output_type": "execute_result",
          "data": {
            "text/plain": [
              "(60000, 28, 28)"
            ]
          },
          "metadata": {},
          "execution_count": 3
        }
      ],
      "source": [
        "x_train_full.shape"
      ]
    },
    {
      "cell_type": "code",
      "execution_count": null,
      "id": "daf42588",
      "metadata": {
        "colab": {
          "base_uri": "https://localhost:8080/",
          "height": 282
        },
        "id": "daf42588",
        "outputId": "d892c522-ca0d-4f76-df29-df722223ea35"
      },
      "outputs": [
        {
          "output_type": "execute_result",
          "data": {
            "text/plain": [
              "<matplotlib.image.AxesImage at 0x7ff705e430d0>"
            ]
          },
          "metadata": {},
          "execution_count": 4
        },
        {
          "output_type": "display_data",
          "data": {
            "text/plain": [
              "<Figure size 432x288 with 1 Axes>"
            ],
            "image/png": "[encoded data removed]"
          },
          "metadata": {
            "needs_background": "light"
          }
        }
      ],
      "source": [
        "plt.imshow(x_train_full[1])"
      ]
    },
    {
      "cell_type": "code",
      "source": [
        "y_train_full[1]"
      ],
      "metadata": {
        "colab": {
          "base_uri": "https://localhost:8080/"
        },
        "id": "n6xzPA0cRBWj",
        "outputId": "fcd8d529-420b-4dfb-d614-d06678dc57f0"
      },
      "id": "n6xzPA0cRBWj",
      "execution_count": null,
      "outputs": [
        {
          "output_type": "execute_result",
          "data": {
            "text/plain": [
              "0"
            ]
          },
          "metadata": {},
          "execution_count": 5
        }
      ]
    },
    {
      "cell_type": "markdown",
      "source": [
        ""
      ],
      "metadata": {
        "id": "UYQ1IdiKRBIv"
      },
      "id": "UYQ1IdiKRBIv"
    },
    {
      "cell_type": "code",
      "execution_count": null,
      "id": "9ee3c12f",
      "metadata": {
        "id": "9ee3c12f"
      },
      "outputs": [],
      "source": [
        "# feature scaling\n",
        "x_train_n = x_train_full / 255.\n",
        "x_test_n = x_test / 255."
      ]
    },
    {
      "cell_type": "code",
      "execution_count": null,
      "id": "5835224a",
      "metadata": {
        "id": "5835224a"
      },
      "outputs": [],
      "source": [
        "# Train_Valid_Test Split\n",
        "x_valid, x_train = x_train_n[:6000],x_train_n[6000:]\n",
        "y_valid, y_train = y_train_full[:6000],y_train_full[6000:]\n",
        "x_test = x_test_n"
      ]
    },
    {
      "cell_type": "code",
      "execution_count": null,
      "id": "48bdc645",
      "metadata": {
        "id": "48bdc645"
      },
      "outputs": [],
      "source": [
        "np.random.seed(42)\n",
        "tf.random.set_seed(42)"
      ]
    },
    {
      "cell_type": "code",
      "execution_count": null,
      "id": "cdc67956",
      "metadata": {
        "id": "cdc67956"
      },
      "outputs": [],
      "source": [
        "# Model Building\n",
        "model = keras.models.Sequential()\n",
        "model.add(keras.layers.Flatten(input_shape=[28,28]))\n",
        "model.add(keras.layers.Dense(200,activation='relu'))\n",
        "model.add(keras.layers.Dense(100,activation='relu'))\n",
        "model.add(keras.layers.Dense(10,activation='softmax'))"
      ]
    },
    {
      "cell_type": "code",
      "execution_count": null,
      "id": "d26ee23a",
      "metadata": {
        "id": "d26ee23a"
      },
      "outputs": [],
      "source": [
        "model.compile(loss='sparse_categorical_crossentropy',\n",
        "             metrics=['accuracy'],\n",
        "             optimizer = 'adam')"
      ]
    },
    {
      "cell_type": "code",
      "execution_count": null,
      "id": "567f4a1f",
      "metadata": {
        "id": "567f4a1f",
        "outputId": "105594dd-d87f-45a9-dd00-3d1d58fa7ba2",
        "colab": {
          "base_uri": "https://localhost:8080/"
        }
      },
      "outputs": [
        {
          "output_type": "stream",
          "name": "stdout",
          "text": [
            "Epoch 1/20\n",
            "1688/1688 [==============================] - 13s 7ms/step - loss: 0.2310 - accuracy: 0.9319 - val_loss: 0.1340 - val_accuracy: 0.9600\n",
            "Epoch 2/20\n",
            "1688/1688 [==============================] - 8s 5ms/step - loss: 0.0930 - accuracy: 0.9720 - val_loss: 0.0935 - val_accuracy: 0.9705\n",
            "Epoch 3/20\n",
            "1688/1688 [==============================] - 6s 4ms/step - loss: 0.0646 - accuracy: 0.9802 - val_loss: 0.0874 - val_accuracy: 0.9747\n",
            "Epoch 4/20\n",
            "1688/1688 [==============================] - 6s 4ms/step - loss: 0.0472 - accuracy: 0.9848 - val_loss: 0.0812 - val_accuracy: 0.9777\n",
            "Epoch 5/20\n",
            "1688/1688 [==============================] - 6s 4ms/step - loss: 0.0380 - accuracy: 0.9873 - val_loss: 0.1052 - val_accuracy: 0.9723\n",
            "Epoch 6/20\n",
            "1688/1688 [==============================] - 6s 4ms/step - loss: 0.0297 - accuracy: 0.9905 - val_loss: 0.0890 - val_accuracy: 0.9752\n",
            "Epoch 7/20\n",
            "1688/1688 [==============================] - 6s 4ms/step - loss: 0.0241 - accuracy: 0.9920 - val_loss: 0.0871 - val_accuracy: 0.9782\n",
            "Epoch 8/20\n",
            "1688/1688 [==============================] - 6s 3ms/step - loss: 0.0228 - accuracy: 0.9922 - val_loss: 0.1036 - val_accuracy: 0.9772\n",
            "Epoch 9/20\n",
            "1688/1688 [==============================] - 6s 4ms/step - loss: 0.0196 - accuracy: 0.9933 - val_loss: 0.1085 - val_accuracy: 0.9747\n",
            "Epoch 10/20\n",
            "1688/1688 [==============================] - 6s 4ms/step - loss: 0.0176 - accuracy: 0.9945 - val_loss: 0.0926 - val_accuracy: 0.9780\n",
            "Epoch 11/20\n",
            " 516/1688 [========>.....................] - ETA: 3s - loss: 0.0119 - accuracy: 0.9962"
          ]
        }
      ],
      "source": [
        "# model training\n",
        "model_r = model.fit(x_train,y_train,epochs=20,\n",
        "                         validation_data=(x_valid,y_valid))"
      ]
    },
    {
      "cell_type": "code",
      "execution_count": null,
      "id": "78c9249d",
      "metadata": {
        "id": "78c9249d"
      },
      "outputs": [],
      "source": [
        "model.evaluate(x_test,y_test)"
      ]
    },
    {
      "cell_type": "code",
      "execution_count": null,
      "id": "11753143",
      "metadata": {
        "id": "11753143"
      },
      "outputs": [],
      "source": [
        "# Val-loss\n",
        "pd.DataFrame(model_r.history).plot(figsize=(8,5))\n",
        "plt.grid(True)\n",
        "plt.gca().set_ylim(0,1)\n",
        "plt.show()"
      ]
    },
    {
      "cell_type": "code",
      "execution_count": null,
      "id": "40d4980d",
      "metadata": {
        "id": "40d4980d"
      },
      "outputs": [],
      "source": [
        "# predicting first five Digits\n",
        "x_new=x_test[:5]"
      ]
    },
    {
      "cell_type": "code",
      "execution_count": null,
      "id": "dbee63c1",
      "metadata": {
        "id": "dbee63c1"
      },
      "outputs": [],
      "source": [
        "y_proba = model.predict(x_new)\n",
        "y_proba.round(2)"
      ]
    },
    {
      "cell_type": "code",
      "execution_count": null,
      "id": "228abeea",
      "metadata": {
        "id": "228abeea"
      },
      "outputs": [],
      "source": [
        "predict_x = model.predict(x_new) \n",
        "classes_x=np.argmax(predict_x,axis=1)"
      ]
    },
    {
      "cell_type": "code",
      "execution_count": null,
      "id": "979549e2",
      "metadata": {
        "id": "979549e2"
      },
      "outputs": [],
      "source": [
        "# Output\n",
        "classes_x"
      ]
    },
    {
      "cell_type": "code",
      "execution_count": null,
      "id": "e0e57cf3",
      "metadata": {
        "id": "e0e57cf3"
      },
      "outputs": [],
      "source": [
        "plt.imshow(x_test[1])"
      ]
    },
    {
      "cell_type": "code",
      "source": [
        ""
      ],
      "metadata": {
        "id": "1Iw7fqb-Ty2M"
      },
      "id": "1Iw7fqb-Ty2M",
      "execution_count": null,
      "outputs": []
    }
  ],
  "metadata": {
    "kernelspec": {
      "display_name": "Python 3",
      "language": "python",
      "name": "python3"
    },
    "language_info": {
      "codemirror_mode": {
        "name": "ipython",
        "version": 3
      },
      "file_extension": ".py",
      "mimetype": "text/x-python",
      "name": "python",
      "nbconvert_exporter": "python",
      "pygments_lexer": "ipython3",
      "version": "3.8.8"
    },
    "colab": {
      "name": "ML-MNIST.ipynb",
      "provenance": [],
      "collapsed_sections": []
    }
  },
  "nbformat": 4,
  "nbformat_minor": 5
}