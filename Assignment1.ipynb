{
  "nbformat": 4,
  "nbformat_minor": 0,
  "metadata": {
    "colab": {
      "name": "Assignment1.ipynb",
      "provenance": []
    },
    "kernelspec": {
      "name": "python3",
      "display_name": "Python 3"
    },
    "language_info": {
      "name": "python"
    }
  },
  "cells": [
    {
      "cell_type": "markdown",
      "metadata": {
        "id": "zesWeQhgeUhJ"
      },
      "source": [
        "\n",
        "\n",
        "* **#Task 1**   \n",
        "* **Registration/Referral id :** SIRSS2218\n",
        "* **Full name :** Shrikrushnakumar Bhausaheb Sondge\n",
        "\n",
        "\n",
        "\n",
        "\n"
      ]
    },
    {
      "cell_type": "markdown",
      "metadata": {
        "id": "Bbu2vqot2xGR"
      },
      "source": [
        "**Q.1**"
      ]
    },
    {
      "cell_type": "code",
      "metadata": {
        "colab": {
          "base_uri": "https://localhost:8080/"
        },
        "id": "Egg3pag722XD",
        "outputId": "f3c07b67-ceb1-4dd0-f6bc-dc25bc0de893"
      },
      "source": [
        "for i in range(5):\n",
        "  for j  in range(5-i):\n",
        "    print(5,end=' ')\n",
        "  print()"
      ],
      "execution_count": 12,
      "outputs": [
        {
          "output_type": "stream",
          "text": [
            "5 5 5 5 5 \n",
            "5 5 5 5 \n",
            "5 5 5 \n",
            "5 5 \n",
            "5 \n"
          ],
          "name": "stdout"
        }
      ]
    },
    {
      "cell_type": "markdown",
      "metadata": {
        "id": "i9uhFDGV7Fdj"
      },
      "source": [
        "**Q.2**"
      ]
    },
    {
      "cell_type": "code",
      "metadata": {
        "colab": {
          "base_uri": "https://localhost:8080/"
        },
        "id": "HRRLT65K7IsK",
        "outputId": "1fa83652-29e4-4f89-e272-1b09d8b42d46"
      },
      "source": [
        "for i in range(6):\n",
        "  for j in range(6-i):\n",
        "    if i<5:\n",
        "      print(j,end=' ')\n",
        "  print()"
      ],
      "execution_count": 13,
      "outputs": [
        {
          "output_type": "stream",
          "text": [
            "0 1 2 3 4 5 \n",
            "0 1 2 3 4 \n",
            "0 1 2 3 \n",
            "0 1 2 \n",
            "0 1 \n",
            "\n"
          ],
          "name": "stdout"
        }
      ]
    },
    {
      "cell_type": "markdown",
      "metadata": {
        "id": "d5R3YUrK8PUD"
      },
      "source": [
        "**Q.3**"
      ]
    },
    {
      "cell_type": "code",
      "metadata": {
        "colab": {
          "base_uri": "https://localhost:8080/"
        },
        "id": "qHvbTLRI8STK",
        "outputId": "de3e2839-4ead-49ee-fec4-6304e3d0c43a"
      },
      "source": [
        "i=1\n",
        "while i<=5:\n",
        "  j=1\n",
        "  while j<=i:\n",
        "    print(i*2-1,end = ' ')\n",
        "    j=j+1\n",
        "  i=i+1\n",
        "  print()\n"
      ],
      "execution_count": 14,
      "outputs": [
        {
          "output_type": "stream",
          "text": [
            "1 \n",
            "3 3 \n",
            "5 5 5 \n",
            "7 7 7 7 \n",
            "9 9 9 9 9 \n"
          ],
          "name": "stdout"
        }
      ]
    },
    {
      "cell_type": "markdown",
      "metadata": {
        "id": "KKdHbVORBQqi"
      },
      "source": [
        "**Q.4**"
      ]
    },
    {
      "cell_type": "code",
      "metadata": {
        "colab": {
          "base_uri": "https://localhost:8080/"
        },
        "id": "0v_RPfm_BUOr",
        "outputId": "507096ce-cefc-40b8-8983-f9853a7fd59b"
      },
      "source": [
        "for i in range(1,6):\n",
        "  for j in range(i,0,-1):\n",
        "    print(j,end=' ')\n",
        "  print()"
      ],
      "execution_count": 15,
      "outputs": [
        {
          "output_type": "stream",
          "text": [
            "1 \n",
            "2 1 \n",
            "3 2 1 \n",
            "4 3 2 1 \n",
            "5 4 3 2 1 \n"
          ],
          "name": "stdout"
        }
      ]
    },
    {
      "cell_type": "markdown",
      "metadata": {
        "id": "keWF6X6oCcKi"
      },
      "source": [
        "**Q.5**"
      ]
    },
    {
      "cell_type": "code",
      "metadata": {
        "colab": {
          "base_uri": "https://localhost:8080/"
        },
        "id": "CwyHIflACfZA",
        "outputId": "48223d2e-6b6d-45d3-d449-485296f044ec"
      },
      "source": [
        "a=1\n",
        "b=2\n",
        "c=b\n",
        "for i in range(2,6):\n",
        "  for j in range(a,b):\n",
        "    c-=1\n",
        "    print(c,end=' ')\n",
        "  print()\n",
        "  a=b\n",
        "  b+=i\n",
        "  c=b\n"
      ],
      "execution_count": 16,
      "outputs": [
        {
          "output_type": "stream",
          "text": [
            "1 \n",
            "3 2 \n",
            "6 5 4 \n",
            "10 9 8 7 \n"
          ],
          "name": "stdout"
        }
      ]
    },
    {
      "cell_type": "markdown",
      "metadata": {
        "id": "GMPS76rcGQx8"
      },
      "source": [
        "**Q.6**"
      ]
    },
    {
      "cell_type": "code",
      "metadata": {
        "id": "E7GDRVN6GUY7",
        "colab": {
          "base_uri": "https://localhost:8080/"
        },
        "outputId": "e8b90984-a437-4082-e106-3a34b1746efd"
      },
      "source": [
        "def fac(n):\n",
        "  f=1\n",
        "  while(n>1):\n",
        "    f=f*(n)\n",
        "    n=n-1\n",
        "  return f\n",
        "\n",
        "def c(n,r):\n",
        "  return int(fac(n)/(fac(r)*fac(n-r)))\n",
        "  \n",
        "\n",
        "for i in range(0,7):\n",
        "  x=0\n",
        "  for j in range(i+1):\n",
        "    print(c(i,x),end=\" \")\n",
        "    x=x+1\n",
        "  print()"
      ],
      "execution_count": 17,
      "outputs": [
        {
          "output_type": "stream",
          "text": [
            "1 \n",
            "1 1 \n",
            "1 2 1 \n",
            "1 3 3 1 \n",
            "1 4 6 4 1 \n",
            "1 5 10 10 5 1 \n",
            "1 6 15 20 15 6 1 \n"
          ],
          "name": "stdout"
        }
      ]
    },
    {
      "cell_type": "markdown",
      "metadata": {
        "id": "3pO2vAv_GU40"
      },
      "source": [
        "**Q.7**"
      ]
    },
    {
      "cell_type": "code",
      "metadata": {
        "colab": {
          "base_uri": "https://localhost:8080/"
        },
        "id": "KKxmmF81GXbS",
        "outputId": "32778850-5e95-438f-acc4-2cb33b3d7d0e"
      },
      "source": [
        "for i in range(1,6):\n",
        "  for j in range(1,6):\n",
        "    if j<=i:\n",
        "      print(i,end=' ')\n",
        "    else:\n",
        "      print(j,end=' ')\n",
        "  print()"
      ],
      "execution_count": 18,
      "outputs": [
        {
          "output_type": "stream",
          "text": [
            "1 2 3 4 5 \n",
            "2 2 3 4 5 \n",
            "3 3 3 4 5 \n",
            "4 4 4 4 5 \n",
            "5 5 5 5 5 \n"
          ],
          "name": "stdout"
        }
      ]
    },
    {
      "cell_type": "markdown",
      "metadata": {
        "id": "7-UH9B9IGYJj"
      },
      "source": [
        "**Q.8**"
      ]
    },
    {
      "cell_type": "code",
      "metadata": {
        "colab": {
          "base_uri": "https://localhost:8080/"
        },
        "id": "c9UMSH7vGdNJ",
        "outputId": "584742a4-5edc-496c-bc2b-0f4d9c5c65da"
      },
      "source": [
        "for i in range(1,9):\n",
        "  for j in range(1,i+1):\n",
        "    print(i*j,end=' ')\n",
        "  print()"
      ],
      "execution_count": 19,
      "outputs": [
        {
          "output_type": "stream",
          "text": [
            "1 \n",
            "2 4 \n",
            "3 6 9 \n",
            "4 8 12 16 \n",
            "5 10 15 20 25 \n",
            "6 12 18 24 30 36 \n",
            "7 14 21 28 35 42 49 \n",
            "8 16 24 32 40 48 56 64 \n"
          ],
          "name": "stdout"
        }
      ]
    },
    {
      "cell_type": "markdown",
      "metadata": {
        "id": "nV0o4PVPGdk-"
      },
      "source": [
        "**Q.9**"
      ]
    },
    {
      "cell_type": "code",
      "metadata": {
        "id": "SFiSKiR3GgD7",
        "colab": {
          "base_uri": "https://localhost:8080/"
        },
        "outputId": "810d402a-4fab-4a97-eddd-369d6668421d"
      },
      "source": [
        "for i in range(0,6):\n",
        "  for j in range(i):\n",
        "    print(\" \",end=\"\")\n",
        "  for k in range(6-i):\n",
        "   print(\"* \",end=\"\")\n",
        "  print(\"\\n\")"
      ],
      "execution_count": 20,
      "outputs": [
        {
          "output_type": "stream",
          "text": [
            "* * * * * * \n",
            "\n",
            " * * * * * \n",
            "\n",
            "  * * * * \n",
            "\n",
            "   * * * \n",
            "\n",
            "    * * \n",
            "\n",
            "     * \n",
            "\n"
          ],
          "name": "stdout"
        }
      ]
    },
    {
      "cell_type": "markdown",
      "metadata": {
        "id": "Jh0a12R-Gg3x"
      },
      "source": [
        "**Q.10**"
      ]
    },
    {
      "cell_type": "code",
      "metadata": {
        "id": "LwTmx6bRGi95",
        "colab": {
          "base_uri": "https://localhost:8080/"
        },
        "outputId": "00ba4144-7992-4a74-cbf4-ede9946d939e"
      },
      "source": [
        "for i in range(0,8):\n",
        "  for j in range(8-i):\n",
        "    print(\" \",end=\"\")\n",
        "  for k in range(i):\n",
        "   print(\"* \",end=\"\")\n",
        "  print(\"\\n\")"
      ],
      "execution_count": 21,
      "outputs": [
        {
          "output_type": "stream",
          "text": [
            "        \n",
            "\n",
            "       * \n",
            "\n",
            "      * * \n",
            "\n",
            "     * * * \n",
            "\n",
            "    * * * * \n",
            "\n",
            "   * * * * * \n",
            "\n",
            "  * * * * * * \n",
            "\n",
            " * * * * * * * \n",
            "\n"
          ],
          "name": "stdout"
        }
      ]
    },
    {
      "cell_type": "markdown",
      "metadata": {
        "id": "XlP6ivrrGjlO"
      },
      "source": [
        "**Q.11**"
      ]
    },
    {
      "cell_type": "code",
      "metadata": {
        "colab": {
          "base_uri": "https://localhost:8080/"
        },
        "id": "H-KlkEoJGm1V",
        "outputId": "5f001251-19d4-453a-dbad-2786df0a8163"
      },
      "source": [
        "for i in range(0,6):\n",
        "  for j in range(0,i+1):\n",
        "    print(\"*\",end=' ')\n",
        "  print()\n",
        "\n",
        "print()\n",
        "\n",
        "for i in range(7,0,-1):\n",
        "  for j in range(0,i-1):\n",
        "    print(\"*\",end=' ')\n",
        "  print()"
      ],
      "execution_count": 22,
      "outputs": [
        {
          "output_type": "stream",
          "text": [
            "* \n",
            "* * \n",
            "* * * \n",
            "* * * * \n",
            "* * * * * \n",
            "* * * * * * \n",
            "\n",
            "* * * * * * \n",
            "* * * * * \n",
            "* * * * \n",
            "* * * \n",
            "* * \n",
            "* \n",
            "\n"
          ],
          "name": "stdout"
        }
      ]
    },
    {
      "cell_type": "markdown",
      "metadata": {
        "id": "7IEWa7IQGnlz"
      },
      "source": [
        "**Q.12**"
      ]
    },
    {
      "cell_type": "code",
      "metadata": {
        "colab": {
          "base_uri": "https://localhost:8080/"
        },
        "id": "5Te_UqE8Gp8D",
        "outputId": "af6df7ee-0d40-4b9e-ce38-3ae63a9153fe"
      },
      "source": [
        "for i in range(0,5):\n",
        "  for j in range(0,i+1):\n",
        "    print(\"*\",end=' ')\n",
        "  print()\n",
        "\n",
        "for i in range(5,0,-1):\n",
        "  for j in range(0,i-1):\n",
        "    print(\"*\",end=' ')\n",
        "  print()"
      ],
      "execution_count": 23,
      "outputs": [
        {
          "output_type": "stream",
          "text": [
            "* \n",
            "* * \n",
            "* * * \n",
            "* * * * \n",
            "* * * * * \n",
            "* * * * \n",
            "* * * \n",
            "* * \n",
            "* \n",
            "\n"
          ],
          "name": "stdout"
        }
      ]
    },
    {
      "cell_type": "markdown",
      "metadata": {
        "id": "O7oeS65wGqdd"
      },
      "source": [
        "**Q.13**"
      ]
    },
    {
      "cell_type": "code",
      "metadata": {
        "id": "B3y58T6UGuTA",
        "colab": {
          "base_uri": "https://localhost:8080/"
        },
        "outputId": "a80256a1-d896-4410-9125-806228095f97"
      },
      "source": [
        "for i in range(0,6):\n",
        "  for j in range(6-i):\n",
        "    print(\"  \",end=\"\")\n",
        "  for k in range(i):\n",
        "   print(\"* \",end=\"\")\n",
        "  print(\"\\n\")\n",
        "for i in range(1,5):\n",
        "  for j in range(i+1):\n",
        "    print(\"  \",end=\"\")\n",
        "  for k in range(5-i):\n",
        "   print(\"* \",end=\"\")\n",
        "  print(\"\\n\")"
      ],
      "execution_count": 24,
      "outputs": [
        {
          "output_type": "stream",
          "text": [
            "            \n",
            "\n",
            "          * \n",
            "\n",
            "        * * \n",
            "\n",
            "      * * * \n",
            "\n",
            "    * * * * \n",
            "\n",
            "  * * * * * \n",
            "\n",
            "    * * * * \n",
            "\n",
            "      * * * \n",
            "\n",
            "        * * \n",
            "\n",
            "          * \n",
            "\n"
          ],
          "name": "stdout"
        }
      ]
    },
    {
      "cell_type": "markdown",
      "metadata": {
        "id": "pRFcKSy0Guym"
      },
      "source": [
        "**Q.14**"
      ]
    },
    {
      "cell_type": "code",
      "metadata": {
        "id": "iRMqbTAnGwz-",
        "colab": {
          "base_uri": "https://localhost:8080/"
        },
        "outputId": "8bab3012-33f5-4da1-bee3-5ebcd0977efb"
      },
      "source": [
        "for i in range(1,6):\n",
        "  for j in range(i):\n",
        "    print(\" \",end=\"\")\n",
        "  for k in range(6-i):\n",
        "   print(\"* \",end=\"\")\n",
        "  print(\"\\n\")\n",
        "for i in range(0,6):\n",
        "  for j in range(6-i):\n",
        "    print(\" \",end=\"\")\n",
        "  for k in range(i):\n",
        "   print(\"* \",end=\"\")\n",
        "  print(\"\\n\")"
      ],
      "execution_count": 25,
      "outputs": [
        {
          "output_type": "stream",
          "text": [
            " * * * * * \n",
            "\n",
            "  * * * * \n",
            "\n",
            "   * * * \n",
            "\n",
            "    * * \n",
            "\n",
            "     * \n",
            "\n",
            "      \n",
            "\n",
            "     * \n",
            "\n",
            "    * * \n",
            "\n",
            "   * * * \n",
            "\n",
            "  * * * * \n",
            "\n",
            " * * * * * \n",
            "\n"
          ],
          "name": "stdout"
        }
      ]
    },
    {
      "cell_type": "markdown",
      "metadata": {
        "id": "GFxjOX7RGxjj"
      },
      "source": [
        "**Q.15**"
      ]
    },
    {
      "cell_type": "code",
      "metadata": {
        "id": "2jmGuqn0Gz4P",
        "colab": {
          "base_uri": "https://localhost:8080/"
        },
        "outputId": "c71701be-cadd-4701-ce3f-6a8ac6dd396e"
      },
      "source": [
        "for i in range(0,8):\n",
        "  for j in range(8-i):\n",
        "    print(\"* \",end=\"\")\n",
        "  for k in range(i*2):\n",
        "    print(\"_ \",end=\"\")\n",
        "  for l in range(8-i):\n",
        "    print(\"* \",end=\"\")\n",
        "  print(\"\\n\")"
      ],
      "execution_count": 26,
      "outputs": [
        {
          "output_type": "stream",
          "text": [
            "* * * * * * * * * * * * * * * * \n",
            "\n",
            "* * * * * * * _ _ * * * * * * * \n",
            "\n",
            "* * * * * * _ _ _ _ * * * * * * \n",
            "\n",
            "* * * * * _ _ _ _ _ _ * * * * * \n",
            "\n",
            "* * * * _ _ _ _ _ _ _ _ * * * * \n",
            "\n",
            "* * * _ _ _ _ _ _ _ _ _ _ * * * \n",
            "\n",
            "* * _ _ _ _ _ _ _ _ _ _ _ _ * * \n",
            "\n",
            "* _ _ _ _ _ _ _ _ _ _ _ _ _ _ * \n",
            "\n"
          ],
          "name": "stdout"
        }
      ]
    }
  ]
}