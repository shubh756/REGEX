{
  "nbformat": 4,
  "nbformat_minor": 0,
  "metadata": {
    "colab": {
      "name": "Assignment3.ipynb",
      "provenance": []
    },
    "kernelspec": {
      "name": "python3",
      "display_name": "Python 3"
    },
    "language_info": {
      "name": "python"
    }
  },
  "cells": [
    {
      "cell_type": "markdown",
      "metadata": {
        "id": "Z8OW9nlF7J8-"
      },
      "source": [
        "*   **#Task 3**\n",
        "*   **Registration/Referral id :** SIRSS2218\n",
        "*   **Full name :** Shrikrushnakumar Bhausaheb Sondge\n",
        "\n",
        "\n",
        "\n",
        "\n",
        "\n",
        "\n",
        "\n"
      ]
    },
    {
      "cell_type": "markdown",
      "metadata": {
        "id": "oWR7lsC373Gv"
      },
      "source": [
        "**Q1. Write a function to return nth term of Fibonacci sequence.**"
      ]
    },
    {
      "cell_type": "code",
      "metadata": {
        "id": "ty6VCvIe70C0",
        "colab": {
          "base_uri": "https://localhost:8080/"
        },
        "outputId": "a4474097-92fb-4810-dac4-da6c65f7a1f0"
      },
      "source": [
        "def fiboIter(n):\n",
        "  prevNum , currNum  = 0 , 1\n",
        "  if n==0:\n",
        "    return prevNum \n",
        "  else:\n",
        "    for i in range(1,n):\n",
        "      prevNum , currNum = currNum , prevNum + currNum\n",
        "    return currNum\n",
        "\n",
        "if __name__ == \"__main__\":\n",
        "  num = int(input(\"Enter any number : \"))\n",
        "  print(f\"fib({num}) is {fiboIter(num)}\")"
      ],
      "execution_count": null,
      "outputs": [
        {
          "output_type": "stream",
          "text": [
            "Enter any number : 56\n",
            "fib(56) is 225851433717\n"
          ],
          "name": "stdout"
        }
      ]
    },
    {
      "cell_type": "markdown",
      "metadata": {
        "id": "_MQ8rg2zFr4k"
      },
      "source": [
        "**Q2. Write a function to find out GCD of two numbers using EUCLID'S algorithm.**"
      ]
    },
    {
      "cell_type": "code",
      "metadata": {
        "colab": {
          "base_uri": "https://localhost:8080/"
        },
        "id": "S9D3bpJGCf6h",
        "outputId": "a67a6866-aa09-43e0-8913-fff892942620"
      },
      "source": [
        "def GCD(a , b):\n",
        " if b == 0:\n",
        "   return a\n",
        " else:\n",
        "   return GCD(b , a%b)\n",
        "if __name__ == \"__main__\":\n",
        "  a = int(input(\"Enter first number : \"))\n",
        "  b = int(input(\"Enter second number : \"))\n",
        "  print(f\"GCD of {a}, {b} using Euclid Algorithm is {GCD(a,b)}\")"
      ],
      "execution_count": null,
      "outputs": [
        {
          "output_type": "stream",
          "text": [
            "Enter first number : 144\n",
            "Enter second number : 96\n",
            "GCD of 144, 96 using Euclid Algorithm is 48\n"
          ],
          "name": "stdout"
        }
      ]
    },
    {
      "cell_type": "markdown",
      "metadata": {
        "id": "8V4pI7OEOjnC"
      },
      "source": [
        "**Q3. Write a function to find LCM of two number in most optimizers way.**"
      ]
    },
    {
      "cell_type": "code",
      "metadata": {
        "colab": {
          "base_uri": "https://localhost:8080/"
        },
        "id": "6lbp8WugOE8o",
        "outputId": "49190791-36c6-402f-c5b6-67f709d74cd5"
      },
      "source": [
        "def lcm(a , b):\n",
        "  return (a // GCD(a , b)) * b\n",
        "if __name__ == \"__main__\":\n",
        "  a = int(input(\"Enter first number : \"))\n",
        "  b = int(input(\"Enter second number : \"))\n",
        "  print(f\"LCM of {a} , {b} is {lcm(a , b)}\")"
      ],
      "execution_count": null,
      "outputs": [
        {
          "output_type": "stream",
          "text": [
            "Enter first number : 144\n",
            "Enter second number : 96\n",
            "LCM of 144 , 96 is 288\n"
          ],
          "name": "stdout"
        }
      ]
    }
  ]
}